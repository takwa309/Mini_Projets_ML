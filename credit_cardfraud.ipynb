{
  "nbformat": 4,
  "nbformat_minor": 0,
  "metadata": {
    "colab": {
      "provenance": [],
      "toc_visible": true
    },
    "kernelspec": {
      "name": "python3",
      "display_name": "Python 3"
    },
    "language_info": {
      "name": "python"
    }
  },
  "cells": [
    {
      "cell_type": "code",
      "execution_count": 5,
      "metadata": {
        "colab": {
          "base_uri": "https://localhost:8080/"
        },
        "id": "yjPXpurqsHot",
        "outputId": "de46d4f3-91d8-4ffc-bd0e-c2dd993b9110"
      },
      "outputs": [
        {
          "output_type": "stream",
          "name": "stdout",
          "text": [
            "   Time        V1        V2        V3        V4        V5        V6        V7  \\\n",
            "0     0 -1.359807 -0.072781  2.536347  1.378155 -0.338321  0.462388  0.239599   \n",
            "1     0  1.191857  0.266151  0.166480  0.448154  0.060018 -0.082361 -0.078803   \n",
            "2     1 -1.358354 -1.340163  1.773209  0.379780 -0.503198  1.800499  0.791461   \n",
            "3     1 -0.966272 -0.185226  1.792993 -0.863291 -0.010309  1.247203  0.237609   \n",
            "4     2 -1.158233  0.877737  1.548718  0.403034 -0.407193  0.095921  0.592941   \n",
            "\n",
            "         V8        V9  ...       V21       V22       V23       V24       V25  \\\n",
            "0  0.098698  0.363787  ... -0.018307  0.277838 -0.110474  0.066928  0.128539   \n",
            "1  0.085102 -0.255425  ... -0.225775 -0.638672  0.101288 -0.339846  0.167170   \n",
            "2  0.247676 -1.514654  ...  0.247998  0.771679  0.909412 -0.689281 -0.327642   \n",
            "3  0.377436 -1.387024  ... -0.108300  0.005274 -0.190321 -1.175575  0.647376   \n",
            "4 -0.270533  0.817739  ... -0.009431  0.798278 -0.137458  0.141267 -0.206010   \n",
            "\n",
            "        V26       V27       V28  Amount  Class  \n",
            "0 -0.189115  0.133558 -0.021053  149.62    0.0  \n",
            "1  0.125895 -0.008983  0.014724    2.69    0.0  \n",
            "2 -0.139097 -0.055353 -0.059752  378.66    0.0  \n",
            "3 -0.221929  0.062723  0.061458  123.50    0.0  \n",
            "4  0.502292  0.219422  0.215153   69.99    0.0  \n",
            "\n",
            "[5 rows x 31 columns]\n"
          ]
        }
      ],
      "source": [
        "import numpy as np\n",
        "import pandas as pd\n",
        "import matplotlib.pyplot as plt\n",
        "import seaborn as sns\n",
        "from matplotlib import gridspec\n",
        "data = pd.read_csv(\"creditcard.csv\")\n",
        "print(data.head())"
      ]
    },
    {
      "cell_type": "code",
      "source": [
        "fraud = data[data['Class'] == 1]\n",
        "valid = data[data['Class'] == 0]\n",
        "outlierFraction = len(fraud)/float(len(valid))\n",
        "print(outlierFraction)\n",
        "print('Fraud Cases: {}'.format(len(data[data['Class'] == 1])))\n",
        "print('Valid Transactions: {}'.format(len(data[data['Class'] == 0])))\n"
      ],
      "metadata": {
        "colab": {
          "base_uri": "https://localhost:8080/"
        },
        "id": "-a01uYamwSne",
        "outputId": "3e0254bb-6f6f-4e31-b831-6aa8814c5248"
      },
      "execution_count": 12,
      "outputs": [
        {
          "output_type": "stream",
          "name": "stdout",
          "text": [
            "0.003702301316841264\n",
            "Fraud Cases: 88\n",
            "Valid Transactions: 23769\n"
          ]
        }
      ]
    },
    {
      "cell_type": "code",
      "source": [
        "print(data.describe())\n"
      ],
      "metadata": {
        "colab": {
          "base_uri": "https://localhost:8080/"
        },
        "id": "nzqOVaiR0-qp",
        "outputId": "711615de-239f-4b96-85f7-27b426f6d6c3"
      },
      "execution_count": 8,
      "outputs": [
        {
          "output_type": "stream",
          "name": "stdout",
          "text": [
            "               Time            V1            V2            V3            V4  \\\n",
            "count  23858.000000  23858.000000  23858.000000  23858.000000  23858.000000   \n",
            "mean   18213.370609     -0.239141      0.198892      0.727022      0.248619   \n",
            "std    11377.032190      1.894219      1.533073      1.724887      1.440938   \n",
            "min        0.000000    -30.552380    -40.978852    -31.103685     -5.172595   \n",
            "25%     6624.750000     -0.959528     -0.376134      0.287941     -0.658457   \n",
            "50%    20564.000000     -0.288644      0.192491      0.874426      0.216440   \n",
            "75%    29010.250000      1.164867      0.843146      1.505467      1.122367   \n",
            "max    32954.000000      1.960497     16.713389      4.101716     11.927512   \n",
            "\n",
            "                 V5            V6            V7            V8            V9  \\\n",
            "count  23858.000000  23858.000000  23858.000000  23858.000000  23858.000000   \n",
            "mean      -0.188428      0.082789     -0.132080      0.022901      0.499391   \n",
            "std        1.439894      1.328159      1.334691      1.378382      1.274199   \n",
            "min      -42.147898    -23.496714    -26.548144    -41.484823     -7.175097   \n",
            "25%       -0.767634     -0.663707     -0.595277     -0.167688     -0.330826   \n",
            "50%       -0.218348     -0.179887     -0.066356      0.027183      0.422417   \n",
            "75%        0.325281      0.474103      0.450460      0.286111      1.261519   \n",
            "max       34.099309     22.529298     36.677268     20.007208     10.392889   \n",
            "\n",
            "       ...           V21           V22           V23           V24  \\\n",
            "count  ...  23858.000000  23857.000000  23857.000000  23857.000000   \n",
            "mean   ...     -0.041192     -0.137287     -0.038435      0.013626   \n",
            "std    ...      0.837207      0.644720      0.526298      0.588573   \n",
            "min    ...    -20.262054     -8.593642    -26.751119     -2.836627   \n",
            "25%    ...     -0.253906     -0.561223     -0.173814     -0.325615   \n",
            "50%    ...     -0.104848     -0.110305     -0.048570      0.064300   \n",
            "75%    ...      0.066305      0.273088      0.074189      0.400535   \n",
            "max    ...     22.614889      5.805795     13.876221      3.695503   \n",
            "\n",
            "                V25           V26           V27           V28        Amount  \\\n",
            "count  23857.000000  23857.000000  23857.000000  23857.000000  23857.000000   \n",
            "mean       0.127921      0.027504      0.013233      0.004932     73.976583   \n",
            "std        0.435896      0.520213      0.401059      0.267790    212.761278   \n",
            "min       -7.495741     -1.338556     -8.567638     -9.617915      0.000000   \n",
            "25%       -0.134460     -0.337167     -0.066242     -0.009446      5.990000   \n",
            "50%        0.164769     -0.046463      0.006465      0.020002     18.040000   \n",
            "75%        0.407827      0.314884      0.094960      0.077392     66.000000   \n",
            "max        5.525093      3.517346     11.135740      4.860769   7879.420000   \n",
            "\n",
            "              Class  \n",
            "count  23857.000000  \n",
            "mean       0.003689  \n",
            "std        0.060623  \n",
            "min        0.000000  \n",
            "25%        0.000000  \n",
            "50%        0.000000  \n",
            "75%        0.000000  \n",
            "max        1.000000  \n",
            "\n",
            "[8 rows x 31 columns]\n"
          ]
        }
      ]
    },
    {
      "cell_type": "code",
      "source": [
        "print(\"Amount details of the fraudulent transaction\")\n",
        "fraud.Amount.describe()\n",
        "\n"
      ],
      "metadata": {
        "colab": {
          "base_uri": "https://localhost:8080/",
          "height": 353
        },
        "id": "qkaFqrcF1Gbi",
        "outputId": "2ae8a096-02d8-4a02-ceb9-78b57bc8606b"
      },
      "execution_count": 16,
      "outputs": [
        {
          "output_type": "stream",
          "name": "stdout",
          "text": [
            "Amount details of the fraudulent transaction\n"
          ]
        },
        {
          "output_type": "execute_result",
          "data": {
            "text/plain": [
              "count      88.000000\n",
              "mean      100.010000\n",
              "std       265.845031\n",
              "min         0.000000\n",
              "25%         1.000000\n",
              "50%         1.000000\n",
              "75%        99.990000\n",
              "max      1809.680000\n",
              "Name: Amount, dtype: float64"
            ],
            "text/html": [
              "<div>\n",
              "<style scoped>\n",
              "    .dataframe tbody tr th:only-of-type {\n",
              "        vertical-align: middle;\n",
              "    }\n",
              "\n",
              "    .dataframe tbody tr th {\n",
              "        vertical-align: top;\n",
              "    }\n",
              "\n",
              "    .dataframe thead th {\n",
              "        text-align: right;\n",
              "    }\n",
              "</style>\n",
              "<table border=\"1\" class=\"dataframe\">\n",
              "  <thead>\n",
              "    <tr style=\"text-align: right;\">\n",
              "      <th></th>\n",
              "      <th>Amount</th>\n",
              "    </tr>\n",
              "  </thead>\n",
              "  <tbody>\n",
              "    <tr>\n",
              "      <th>count</th>\n",
              "      <td>88.000000</td>\n",
              "    </tr>\n",
              "    <tr>\n",
              "      <th>mean</th>\n",
              "      <td>100.010000</td>\n",
              "    </tr>\n",
              "    <tr>\n",
              "      <th>std</th>\n",
              "      <td>265.845031</td>\n",
              "    </tr>\n",
              "    <tr>\n",
              "      <th>min</th>\n",
              "      <td>0.000000</td>\n",
              "    </tr>\n",
              "    <tr>\n",
              "      <th>25%</th>\n",
              "      <td>1.000000</td>\n",
              "    </tr>\n",
              "    <tr>\n",
              "      <th>50%</th>\n",
              "      <td>1.000000</td>\n",
              "    </tr>\n",
              "    <tr>\n",
              "      <th>75%</th>\n",
              "      <td>99.990000</td>\n",
              "    </tr>\n",
              "    <tr>\n",
              "      <th>max</th>\n",
              "      <td>1809.680000</td>\n",
              "    </tr>\n",
              "  </tbody>\n",
              "</table>\n",
              "</div><br><label><b>dtype:</b> float64</label>"
            ]
          },
          "metadata": {},
          "execution_count": 16
        }
      ]
    },
    {
      "cell_type": "code",
      "source": [
        "print(\"details of valid transaction\")\n",
        "valid.Amount.describe()"
      ],
      "metadata": {
        "colab": {
          "base_uri": "https://localhost:8080/",
          "height": 353
        },
        "id": "B7Awn0v_1tfN",
        "outputId": "1afc35c3-66fc-4861-b573-4d56b7c78000"
      },
      "execution_count": 15,
      "outputs": [
        {
          "output_type": "stream",
          "name": "stdout",
          "text": [
            "details of valid transaction\n"
          ]
        },
        {
          "output_type": "execute_result",
          "data": {
            "text/plain": [
              "count    23769.000000\n",
              "mean        73.880199\n",
              "std        212.541174\n",
              "min          0.000000\n",
              "25%          6.000000\n",
              "50%         18.110000\n",
              "75%         65.850000\n",
              "max       7879.420000\n",
              "Name: Amount, dtype: float64"
            ],
            "text/html": [
              "<div>\n",
              "<style scoped>\n",
              "    .dataframe tbody tr th:only-of-type {\n",
              "        vertical-align: middle;\n",
              "    }\n",
              "\n",
              "    .dataframe tbody tr th {\n",
              "        vertical-align: top;\n",
              "    }\n",
              "\n",
              "    .dataframe thead th {\n",
              "        text-align: right;\n",
              "    }\n",
              "</style>\n",
              "<table border=\"1\" class=\"dataframe\">\n",
              "  <thead>\n",
              "    <tr style=\"text-align: right;\">\n",
              "      <th></th>\n",
              "      <th>Amount</th>\n",
              "    </tr>\n",
              "  </thead>\n",
              "  <tbody>\n",
              "    <tr>\n",
              "      <th>count</th>\n",
              "      <td>23769.000000</td>\n",
              "    </tr>\n",
              "    <tr>\n",
              "      <th>mean</th>\n",
              "      <td>73.880199</td>\n",
              "    </tr>\n",
              "    <tr>\n",
              "      <th>std</th>\n",
              "      <td>212.541174</td>\n",
              "    </tr>\n",
              "    <tr>\n",
              "      <th>min</th>\n",
              "      <td>0.000000</td>\n",
              "    </tr>\n",
              "    <tr>\n",
              "      <th>25%</th>\n",
              "      <td>6.000000</td>\n",
              "    </tr>\n",
              "    <tr>\n",
              "      <th>50%</th>\n",
              "      <td>18.110000</td>\n",
              "    </tr>\n",
              "    <tr>\n",
              "      <th>75%</th>\n",
              "      <td>65.850000</td>\n",
              "    </tr>\n",
              "    <tr>\n",
              "      <th>max</th>\n",
              "      <td>7879.420000</td>\n",
              "    </tr>\n",
              "  </tbody>\n",
              "</table>\n",
              "</div><br><label><b>dtype:</b> float64</label>"
            ]
          },
          "metadata": {},
          "execution_count": 15
        }
      ]
    },
    {
      "cell_type": "code",
      "source": [
        "import seaborn as sns\n",
        "import matplotlib.pyplot as plt\n",
        "\n",
        "# Calcul de la corrélation entre les features\n",
        "corr_matrix = data.corr()\n",
        "\n",
        "# Affichage de la heatmap\n",
        "plt.figure(figsize=(20, 12))\n",
        "sns.heatmap(corr_matrix, annot=False, cmap='coolwarm', linewidths=0.5)\n",
        "plt.title(\"Matrice de corrélation entre les variables\")\n",
        "plt.show()\n"
      ],
      "metadata": {
        "colab": {
          "base_uri": "https://localhost:8080/",
          "height": 783
        },
        "id": "um57PR2b2Lgc",
        "outputId": "6cc7e49d-6fad-4b76-b782-86bb36a1525a"
      },
      "execution_count": 19,
      "outputs": [
        {
          "output_type": "display_data",
          "data": {
            "text/plain": [
              "<Figure size 2000x1200 with 2 Axes>"
            ],
            "image/png": "[encoded data removed]"
          },
          "metadata": {}
        }
      ]
    },
    {
      "cell_type": "code",
      "source": [
        "# Trier les features selon leur corrélation avec la variable 'Class'\n",
        "correlations = corr_matrix[\"Class\"].drop(\"Class\").sort_values(key=abs, ascending=False)\n",
        "print(correlations)\n"
      ],
      "metadata": {
        "colab": {
          "base_uri": "https://localhost:8080/"
        },
        "id": "fBnwbLFw2o08",
        "outputId": "97586412-69c0-42c9-c441-c929b8075f70"
      },
      "execution_count": 20,
      "outputs": [
        {
          "output_type": "stream",
          "name": "stdout",
          "text": [
            "V3       -0.456776\n",
            "V14      -0.427726\n",
            "V17      -0.417540\n",
            "V7       -0.372770\n",
            "V10      -0.351050\n",
            "V16      -0.316954\n",
            "V12      -0.314432\n",
            "V11       0.274172\n",
            "V1       -0.269010\n",
            "V4        0.252654\n",
            "V5       -0.246737\n",
            "V2        0.245175\n",
            "V18      -0.195112\n",
            "V8        0.191071\n",
            "V9       -0.166495\n",
            "V27       0.127914\n",
            "V6       -0.117733\n",
            "V20       0.063511\n",
            "V21       0.042195\n",
            "V23      -0.036093\n",
            "V25       0.030539\n",
            "V19       0.028132\n",
            "V24      -0.027561\n",
            "V22      -0.023079\n",
            "V28       0.021733\n",
            "V26       0.017809\n",
            "V15      -0.008227\n",
            "Amount    0.007445\n",
            "V13      -0.006833\n",
            "Time     -0.001481\n",
            "Name: Class, dtype: float64\n"
          ]
        }
      ]
    },
    {
      "cell_type": "code",
      "source": [
        "X = data.drop(['Class'], axis = 1)\n",
        "Y = data[\"Class\"]\n",
        "print(X.shape)\n",
        "print(Y.shape)\n",
        "\n",
        "xData = X.values\n",
        "yData = Y.values\n",
        "\n",
        "from sklearn.model_selection import train_test_split\n",
        "xTrain, xTest, yTrain, yTest = train_test_split(\n",
        "        xData, yData, test_size = 0.2, random_state = 42)"
      ],
      "metadata": {
        "colab": {
          "base_uri": "https://localhost:8080/"
        },
        "id": "xOpKMaWE3ebx",
        "outputId": "6d362d27-4ae3-45b0-edb6-470030426291"
      },
      "execution_count": 21,
      "outputs": [
        {
          "output_type": "stream",
          "name": "stdout",
          "text": [
            "(23858, 30)\n",
            "(23858,)\n"
          ]
        }
      ]
    },
    {
      "cell_type": "code",
      "source": [
        "from sklearn.ensemble import RandomForestClassifier\n",
        "from sklearn.metrics import classification_report, confusion_matrix\n",
        "\n",
        "# Initialiser le modèle avec pondération des classes\n",
        "rf = RandomForestClassifier(n_estimators=100, random_state=42, class_weight='balanced')\n",
        "\n",
        "# Entraîner le modèle\n",
        "rf.fit(xTrain, yTrain)\n",
        "\n",
        "# Prédire sur le test set\n",
        "y_pred = rf.predict(xTest)\n",
        "print(\"Nombre de NaN dans y_test :\", np.isnan(yTest).sum())\n",
        "import numpy as np\n",
        "\n",
        "# Indices valides (où y_test n'est pas NaN)\n",
        "valid_idx = ~np.isnan(yTest)\n",
        "\n",
        "# Filtrer X_test et y_test\n",
        "X_test_clean = xTest[valid_idx]\n",
        "y_test_clean = yTest[valid_idx]\n",
        "\n",
        "print(\"Nombre de NaN dans y_test nettoyé :\", np.isnan(y_test_clean).sum())\n",
        "print(\"Taille de X_test nettoyé :\", X_test_clean.shape)\n",
        "print(\"Taille de y_test nettoyé :\", y_test_clean.shape)\n",
        "\n",
        "# Prédiction sur données nettoyées\n",
        "y_pred = rf.predict(X_test_clean)\n",
        "\n",
        "# Affichage des métriques\n",
        "from sklearn.metrics import confusion_matrix, classification_report\n",
        "\n",
        "print(\"Matrice de confusion :\")\n",
        "print(confusion_matrix(y_test_clean, y_pred))\n",
        "\n",
        "print(\"\\nClassification report :\")\n",
        "print(classification_report(y_test_clean, y_pred, digits=4))\n"
      ],
      "metadata": {
        "colab": {
          "base_uri": "https://localhost:8080/"
        },
        "id": "khSWWfs43npV",
        "outputId": "228c8e39-371b-4f1e-9a96-a75c4a9e8404"
      },
      "execution_count": 35,
      "outputs": [
        {
          "output_type": "stream",
          "name": "stdout",
          "text": [
            "Nombre de NaN dans y_test : 1\n",
            "Nombre de NaN dans y_test nettoyé : 0\n",
            "Taille de X_test nettoyé : (4771, 30)\n",
            "Taille de y_test nettoyé : (4771,)\n",
            "Matrice de confusion :\n",
            "[[4754    0]\n",
            " [   1   16]]\n",
            "\n",
            "Classification report :\n",
            "              precision    recall  f1-score   support\n",
            "\n",
            "         0.0     0.9998    1.0000    0.9999      4754\n",
            "         1.0     1.0000    0.9412    0.9697        17\n",
            "\n",
            "    accuracy                         0.9998      4771\n",
            "   macro avg     0.9999    0.9706    0.9848      4771\n",
            "weighted avg     0.9998    0.9998    0.9998      4771\n",
            "\n"
          ]
        }
      ]
    },
    {
      "cell_type": "markdown",
      "source": [
        "# Notes explicatives pour le projet Détection de Fraude par Carte Bancaire\n",
        "\n",
        "---\n",
        "\n",
        "## 1. Analyse de la distribution des classes\n",
        "\n",
        "La variable cible \"Class\" est très déséquilibrée : moins de 0.5% des exemples sont des fraudes.  \n",
        "Cela rend l'entraînement du modèle plus délicat car un modèle naïf peut facilement prédire toujours \"non fraude\"  \n",
        "et obtenir une très bonne accuracy sans réellement détecter les fraudes.\n",
        "\n",
        "---\n",
        "\n",
        "## 2. Exploration des relations entre variables\n",
        "\n",
        "On utilise la corrélation pour détecter quelles variables sont le plus liées à la fraude.  \n",
        "Les variables avec une forte corrélation absolue sont des candidates intéressantes pour le modèle.  \n",
        "Cependant, une faible corrélation ne signifie pas forcément qu'une variable est inutile car les relations peuvent être non-linéaires.\n",
        "\n",
        "---\n",
        "\n",
        "## 3. Séparation train/test\n",
        "\n",
        "La séparation train/test est essentielle pour évaluer la capacité du modèle à généraliser sur des données inconnues.  \n",
        "Ici, on stratifie la séparation pour garder la même proportion de fraudes dans les deux ensembles.  \n",
        "Cela évite d'avoir un test sans ou avec très peu de fraudes, ce qui fausserait l'évaluation.\n",
        "\n",
        "---\n",
        "\n",
        "## 4. Gestion des NaN\n",
        "\n",
        "La présence de valeurs manquantes (NaN) dans la cible empêche l'évaluation correcte du modèle.  \n",
        "On nettoie les NaN dans y_test et on filtre aussi X_test pour garder la correspondance.  \n",
        "Cette étape est critique pour éviter les erreurs et garantir la validité des résultats.\n",
        "\n",
        "---\n",
        "\n",
        "## 5. Entraînement avec Random Forest et class_weight\n",
        "\n",
        "Le paramètre `class_weight='balanced'` permet de pondérer les classes automatiquement  \n",
        "selon leur fréquence, ce qui aide à gérer le déséquilibre sans générer de données synthétiques.  \n",
        "Random Forest est un modèle robuste, souvent performant par défaut, adapté aux problèmes comme la détection de fraude.\n",
        "\n",
        "---\n",
        "\n",
        "## 6. Interprétation des résultats\n",
        "\n",
        "La matrice de confusion et le rapport de classification donnent des informations précieuses :  \n",
        "- **Precision** : sur les alertes de fraude, combien sont réelles (éviter fausses alertes)  \n",
        "- **Recall** : combien de fraudes ont été détectées (éviter fraudes manquées)  \n",
        "- **F1-score** : équilibre entre précision et rappel  \n",
        "- **Accuracy** : peu fiable ici à cause du déséquilibre important\n",
        "\n",
        "---\n",
        "\n",
        "## 7. Importance des variables\n",
        "\n",
        "Visualiser l'importance des variables aide à comprendre quels facteurs influencent le modèle.  \n",
        "Cela peut aussi guider une éventuelle sélection de features pour simplifier le modèle.\n",
        "\n",
        "---\n",
        "\n",
        "## 8. Pourquoi l’accuracy peut induire en erreur ?\n",
        "\n",
        "Dans un jeu de données très déséquilibré, l'accuracy est un indicateur trompeur.  \n",
        "Un modèle qui prédit tout en \"non fraude\" peut avoir une accuracy très élevée  \n",
        "sans aucune capacité réelle à détecter la fraude.  \n",
        "C'est pourquoi on préfère les métriques comme le recall, precision, F1-score, ou AUC-ROC.\n",
        "\n",
        "---\n",
        "\n",
        "## 9. Courbe ROC et AUC\n",
        "\n",
        "La courbe ROC permet d’évaluer la capacité du modèle à séparer les classes sur différents seuils.  \n",
        "L’AUC (Area Under Curve) donne une mesure globale de cette capacité.  \n",
        "Plus l’AUC est proche de 1, meilleur est le modèle.\n",
        "\n",
        "---\n",
        "\n",
        "## 10. Pourquoi ce modèle est facile à utiliser ?\n",
        "\n",
        "Random Forest avec `class_weight='balanced'` est facile à mettre en œuvre car :  \n",
        "- Pas besoin de générer des données artificielles (pas de SMOTE)  \n",
        "- Performant sans tuning complexe  \n",
        "- Interprétable via l’importance des variables  \n",
        "- Robuste aux données bruitées et aux outliers\n",
        "\n",
        "---\n",
        "\n"
      ],
      "metadata": {
        "id": "H-GQDGH47jPu"
      }
    },
    {
      "cell_type": "code",
      "source": [],
      "metadata": {
        "id": "sP1RgWPV7jAr"
      },
      "execution_count": null,
      "outputs": []
    }
  ]
}